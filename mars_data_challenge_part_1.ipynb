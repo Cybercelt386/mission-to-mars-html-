{
 "cells": [
  {
   "cell_type": "code",
   "execution_count": 1,
   "id": "82953909",
   "metadata": {},
   "outputs": [],
   "source": [
    "import re\n",
    "from splinter import Browser\n",
    "from bs4 import BeautifulSoup as soup\n",
    "from webdriver_manager.chrome import ChromeDriverManager"
   ]
  },
  {
   "cell_type": "code",
   "execution_count": 2,
   "id": "1b856006",
   "metadata": {},
   "outputs": [],
   "source": [
    "executable_path = {'executable_path': ChromeDriverManager().install()}\n",
    "browser = Browser('chrome', **executable_path, headless=False)"
   ]
  },
  {
   "cell_type": "code",
   "execution_count": 3,
   "id": "5ddabc5c",
   "metadata": {},
   "outputs": [
    {
     "data": {
      "text/plain": [
       "True"
      ]
     },
     "execution_count": 3,
     "metadata": {},
     "output_type": "execute_result"
    }
   ],
   "source": [
    "url = 'https://redplanetscience.com'\n",
    "browser.visit(url)\n",
    "# Optional delay for loading the page\n",
    "browser.is_element_present_by_css('div.list_text', wait_time=1)"
   ]
  },
  {
   "cell_type": "code",
   "execution_count": 4,
   "id": "b1069954",
   "metadata": {},
   "outputs": [],
   "source": [
    "html = browser.html\n",
    "html_soup = soup(html, 'html.parser')"
   ]
  },
  {
   "cell_type": "code",
   "execution_count": 5,
   "id": "c70078d0",
   "metadata": {},
   "outputs": [
    {
     "name": "stdout",
     "output_type": "stream",
     "text": [
      "A New Video Captures the Science of NASA's Perseverance Mars Rover\n",
      "Nine Finalists Chosen in NASA's Mars 2020 Rover Naming Contest\n",
      "NASA's Mars Helicopter Attached to Mars 2020 Rover \n",
      "NASA's Perseverance Mars Rover Gets Balanced\n",
      "Curiosity Mars Rover's Summer Road Trip Has Begun\n",
      "Join NASA for the Launch of the Mars 2020 Perseverance Rover\n",
      "NASA Invites Public to Share Excitement of Mars 2020 Perseverance Rover Launch\n",
      "NASA to Reveal Name of Its Next Mars Rover\n",
      "5 Hidden Gems Are Riding Aboard NASA's Perseverance Rover\n",
      "Three New Views of Mars' Moon Phobos\n",
      "The Extraordinary Sample-Gathering System of NASA's Perseverance Mars Rover\n",
      "My Culture, My Voice\n",
      "NASA's Perseverance Rover Mission Getting in Shape for Launch\n",
      "Newfound Martian Aurora Actually the Most Common; Sheds Light on Mars' Changing Climate\n",
      "AI Is Helping Scientists Discover Fresh Craters on Mars\n"
     ]
    }
   ],
   "source": [
    "t_list = []\n",
    "titles = html_soup.find_all('div', class_='content_title')\n",
    "\n",
    "for title in titles:\n",
    "    print(title.text)\n",
    "    t_list.append(title.text)"
   ]
  },
  {
   "cell_type": "code",
   "execution_count": 6,
   "id": "b8bf3632",
   "metadata": {},
   "outputs": [
    {
     "name": "stdout",
     "output_type": "stream",
     "text": [
      "[\"A New Video Captures the Science of NASA's Perseverance Mars Rover\", \"Nine Finalists Chosen in NASA's Mars 2020 Rover Naming Contest\", \"NASA's Mars Helicopter Attached to Mars 2020 Rover \", \"NASA's Perseverance Mars Rover Gets Balanced\", \"Curiosity Mars Rover's Summer Road Trip Has Begun\", 'Join NASA for the Launch of the Mars 2020 Perseverance Rover', 'NASA Invites Public to Share Excitement of Mars 2020 Perseverance Rover Launch', 'NASA to Reveal Name of Its Next Mars Rover', \"5 Hidden Gems Are Riding Aboard NASA's Perseverance Rover\", \"Three New Views of Mars' Moon Phobos\", \"The Extraordinary Sample-Gathering System of NASA's Perseverance Mars Rover\", 'My Culture, My Voice', \"NASA's Perseverance Rover Mission Getting in Shape for Launch\", \"Newfound Martian Aurora Actually the Most Common; Sheds Light on Mars' Changing Climate\", 'AI Is Helping Scientists Discover Fresh Craters on Mars']\n"
     ]
    }
   ],
   "source": [
    "print(t_list)"
   ]
  },
  {
   "cell_type": "code",
   "execution_count": 7,
   "id": "6c30c68f",
   "metadata": {},
   "outputs": [
    {
     "name": "stdout",
     "output_type": "stream",
     "text": [
      "With a targeted launch date of July 30, the next robotic scientist NASA is sending to the to the Red Planet has big ambitions.\n",
      "Nine finalists have been chosen in the essay contest for K-12 students across U.S. to name NASA's next Mars rover. Now you can help by voting for your favorite. \n",
      "The helicopter will be first aircraft to perform flight tests on another planet.\n",
      "The mission team performed a crucial weight-balancing test on the rover in preparation for this summer's history-making launch to the Red Planet.\n",
      "After more than a year in the \"clay-bearing unit,\" Curiosity is making a mile-long journey around some deep sand so that it can explore higher up Mount Sharp.\n",
      "No matter where you live, choose from a menu of activities to join NASA as we \"Countdown to Mars\" and launch the Perseverance rover to the Red Planet.\n",
      "There are lots of ways to participate in the historic event, which is targeted for July 30.\n",
      "After a months-long contest among students to name NASA's newest Mars rover, the agency will reveal the winning name — and the winning student — this Thursday. \n",
      "The symbols, mottos, and small objects added to the agency's newest Mars rover serve a variety of purposes, from functional to decorative.\n",
      "Taken with the infrared camera aboard NASA's Odyssey orbiter, they reveal temperature variations on the small moon as it drifts into and out of Mars’ shadow.\n",
      "Two astronauts collected Moon rocks on Apollo 11. It will take three robotic systems working together to gather up the first Mars rock samples for return to Earth.\n",
      "In honor of Hispanic Heritage Month, Christina Hernandez, an instrument engineer on the Mars 2020 mission, talks about her childhood and journey to NASA.\n",
      "Stacking spacecraft components on top of each other is one of the final assembly steps before a mission launches to the Red Planet. \n",
      "A type of Martian aurora first identified by NASA’s MAVEN spacecraft in 2016 is actually the most common form of aurora occurring on the Red Planet, according to new results from the mission.\n",
      "It's the first time machine learning has been used to find previously unknown craters on the Red Planet.\n"
     ]
    }
   ],
   "source": [
    "s_list = []\n",
    "summary = html_soup.find_all('div', class_='article_teaser_body')\n",
    "\n",
    "for s in summary:\n",
    "    print(s.text)\n",
    "    s_list.append(s.text)"
   ]
  },
  {
   "cell_type": "code",
   "execution_count": 8,
   "id": "6455fb7a",
   "metadata": {},
   "outputs": [],
   "source": [
    "# dates = html_soup.find_all('div', class_='list_date')\n",
    "\n",
    "# for date in dates:\n",
    "#     print(date.text)"
   ]
  },
  {
   "cell_type": "code",
   "execution_count": 9,
   "id": "b25cb2d4",
   "metadata": {},
   "outputs": [
    {
     "name": "stdout",
     "output_type": "stream",
     "text": [
      "{'a': 1, 'b': 2, 'c': 3}\n"
     ]
    }
   ],
   "source": [
    "keys = ['a', 'b', 'c']\n",
    "values = [1, 2, 3]\n",
    "dictionary = dict(zip(keys, values))\n",
    "print(dictionary) # {'a': 1, 'b': 2, 'c': 3}"
   ]
  },
  {
   "cell_type": "code",
   "execution_count": 10,
   "id": "f4809cbd",
   "metadata": {},
   "outputs": [
    {
     "name": "stdout",
     "output_type": "stream",
     "text": [
      "{\"A New Video Captures the Science of NASA's Perseverance Mars Rover\": 'With a targeted launch date of July 30, the next robotic scientist NASA is sending to the to the Red Planet has big ambitions.'}\n",
      "{\"Nine Finalists Chosen in NASA's Mars 2020 Rover Naming Contest\": \"Nine finalists have been chosen in the essay contest for K-12 students across U.S. to name NASA's next Mars rover. Now you can help by voting for your favorite. \"}\n",
      "{\"NASA's Mars Helicopter Attached to Mars 2020 Rover \": 'The helicopter will be first aircraft to perform flight tests on another planet.'}\n",
      "{\"NASA's Perseverance Mars Rover Gets Balanced\": \"The mission team performed a crucial weight-balancing test on the rover in preparation for this summer's history-making launch to the Red Planet.\"}\n",
      "{\"Curiosity Mars Rover's Summer Road Trip Has Begun\": 'After more than a year in the \"clay-bearing unit,\" Curiosity is making a mile-long journey around some deep sand so that it can explore higher up Mount Sharp.'}\n",
      "{'Join NASA for the Launch of the Mars 2020 Perseverance Rover': 'No matter where you live, choose from a menu of activities to join NASA as we \"Countdown to Mars\" and launch the Perseverance rover to the Red Planet.'}\n",
      "{'NASA Invites Public to Share Excitement of Mars 2020 Perseverance Rover Launch': 'There are lots of ways to participate in the historic event, which is targeted for July 30.'}\n",
      "{'NASA to Reveal Name of Its Next Mars Rover': \"After a months-long contest among students to name NASA's newest Mars rover, the agency will reveal the winning name — and the winning student — this Thursday. \"}\n",
      "{\"5 Hidden Gems Are Riding Aboard NASA's Perseverance Rover\": \"The symbols, mottos, and small objects added to the agency's newest Mars rover serve a variety of purposes, from functional to decorative.\"}\n",
      "{\"Three New Views of Mars' Moon Phobos\": \"Taken with the infrared camera aboard NASA's Odyssey orbiter, they reveal temperature variations on the small moon as it drifts into and out of Mars’ shadow.\"}\n",
      "{\"The Extraordinary Sample-Gathering System of NASA's Perseverance Mars Rover\": 'Two astronauts collected Moon rocks on Apollo 11. It will take three robotic systems working together to gather up the first Mars rock samples for return to Earth.'}\n",
      "{'My Culture, My Voice': 'In honor of Hispanic Heritage Month, Christina Hernandez, an instrument engineer on the Mars 2020 mission, talks about her childhood and journey to NASA.'}\n",
      "{\"NASA's Perseverance Rover Mission Getting in Shape for Launch\": 'Stacking spacecraft components on top of each other is one of the final assembly steps before a mission launches to the Red Planet. '}\n",
      "{\"Newfound Martian Aurora Actually the Most Common; Sheds Light on Mars' Changing Climate\": 'A type of Martian aurora first identified by NASA’s MAVEN spacecraft in 2016 is actually the most common form of aurora occurring on the Red Planet, according to new results from the mission.'}\n",
      "{'AI Is Helping Scientists Discover Fresh Craters on Mars': \"It's the first time machine learning has been used to find previously unknown craters on the Red Planet.\"}\n"
     ]
    }
   ],
   "source": [
    "dicts = []\n",
    "keys = t_list\n",
    "values = s_list\n",
    "for k in range(len(keys)):\n",
    "    l = k +1\n",
    "    dictionary = dict(zip(keys[k:l], values[k:l]))\n",
    "    print(dictionary) # {'a': 1, 'b': 2, 'c': 3}\n",
    "    dicts.append(dictionary)"
   ]
  },
  {
   "cell_type": "code",
   "execution_count": 11,
   "id": "28018941",
   "metadata": {},
   "outputs": [
    {
     "name": "stdout",
     "output_type": "stream",
     "text": [
      "[{\"A New Video Captures the Science of NASA's Perseverance Mars Rover\": 'With a targeted launch date of July 30, the next robotic scientist NASA is sending to the to the Red Planet has big ambitions.'}, {\"Nine Finalists Chosen in NASA's Mars 2020 Rover Naming Contest\": \"Nine finalists have been chosen in the essay contest for K-12 students across U.S. to name NASA's next Mars rover. Now you can help by voting for your favorite. \"}, {\"NASA's Mars Helicopter Attached to Mars 2020 Rover \": 'The helicopter will be first aircraft to perform flight tests on another planet.'}, {\"NASA's Perseverance Mars Rover Gets Balanced\": \"The mission team performed a crucial weight-balancing test on the rover in preparation for this summer's history-making launch to the Red Planet.\"}, {\"Curiosity Mars Rover's Summer Road Trip Has Begun\": 'After more than a year in the \"clay-bearing unit,\" Curiosity is making a mile-long journey around some deep sand so that it can explore higher up Mount Sharp.'}, {'Join NASA for the Launch of the Mars 2020 Perseverance Rover': 'No matter where you live, choose from a menu of activities to join NASA as we \"Countdown to Mars\" and launch the Perseverance rover to the Red Planet.'}, {'NASA Invites Public to Share Excitement of Mars 2020 Perseverance Rover Launch': 'There are lots of ways to participate in the historic event, which is targeted for July 30.'}, {'NASA to Reveal Name of Its Next Mars Rover': \"After a months-long contest among students to name NASA's newest Mars rover, the agency will reveal the winning name — and the winning student — this Thursday. \"}, {\"5 Hidden Gems Are Riding Aboard NASA's Perseverance Rover\": \"The symbols, mottos, and small objects added to the agency's newest Mars rover serve a variety of purposes, from functional to decorative.\"}, {\"Three New Views of Mars' Moon Phobos\": \"Taken with the infrared camera aboard NASA's Odyssey orbiter, they reveal temperature variations on the small moon as it drifts into and out of Mars’ shadow.\"}, {\"The Extraordinary Sample-Gathering System of NASA's Perseverance Mars Rover\": 'Two astronauts collected Moon rocks on Apollo 11. It will take three robotic systems working together to gather up the first Mars rock samples for return to Earth.'}, {'My Culture, My Voice': 'In honor of Hispanic Heritage Month, Christina Hernandez, an instrument engineer on the Mars 2020 mission, talks about her childhood and journey to NASA.'}, {\"NASA's Perseverance Rover Mission Getting in Shape for Launch\": 'Stacking spacecraft components on top of each other is one of the final assembly steps before a mission launches to the Red Planet. '}, {\"Newfound Martian Aurora Actually the Most Common; Sheds Light on Mars' Changing Climate\": 'A type of Martian aurora first identified by NASA’s MAVEN spacecraft in 2016 is actually the most common form of aurora occurring on the Red Planet, according to new results from the mission.'}, {'AI Is Helping Scientists Discover Fresh Craters on Mars': \"It's the first time machine learning has been used to find previously unknown craters on the Red Planet.\"}]\n"
     ]
    }
   ],
   "source": [
    "print(dicts)"
   ]
  },
  {
   "cell_type": "code",
   "execution_count": null,
   "id": "105e0edf",
   "metadata": {},
   "outputs": [],
   "source": []
  }
 ],
 "metadata": {
  "kernelspec": {
   "display_name": "Python 3 (ipykernel)",
   "language": "python",
   "name": "python3"
  },
  "language_info": {
   "codemirror_mode": {
    "name": "ipython",
    "version": 3
   },
   "file_extension": ".py",
   "mimetype": "text/x-python",
   "name": "python",
   "nbconvert_exporter": "python",
   "pygments_lexer": "ipython3",
   "version": "3.9.12"
  }
 },
 "nbformat": 4,
 "nbformat_minor": 5
}
