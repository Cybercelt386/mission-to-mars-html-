{
 "cells": [
  {
   "cell_type": "code",
   "execution_count": 1,
   "id": "d10b48a6",
   "metadata": {},
   "outputs": [],
   "source": [
    "from bs4 import BeautifulSoup as soup "
   ]
  },
  {
   "cell_type": "code",
   "execution_count": 5,
   "id": "9793d6c8",
   "metadata": {},
   "outputs": [],
   "source": [
    "html = \"\"\"<!DOCTYPE html>\n",
    "<html lang=\"ga\">\n",
    "\n",
    "<head>\n",
    "    <meta charset=\"UTF-8\">\n",
    "    <meta http-equiv=\"X-UA-Compatible\" content=\"IE=edge\">\n",
    "    <meta name=\"viewport\" content=\"width=device-width, initial-scale=1.0\">\n",
    "    <title>Doicimead</title>\n",
    "</head>\n",
    "\n",
    "<body>\n",
    "    <div>\n",
    "        <h2>An chead cheannteideal</h2>\n",
    "        <p>An chead alt</p>\n",
    "    </div>\n",
    "\n",
    "    <div>\n",
    "        <h2>Dara cheannteideal</h2>\n",
    "        <p>Dara alt</p>\n",
    "    </div>\n",
    "</body>\n",
    "\n",
    "</html>\n",
    "\"\"\""
   ]
  },
  {
   "cell_type": "code",
   "execution_count": 7,
   "id": "53e4b6ec",
   "metadata": {},
   "outputs": [
    {
     "name": "stdout",
     "output_type": "stream",
     "text": [
      "<!DOCTYPE html>\n",
      "<html lang=\"ga\">\n",
      " <head>\n",
      "  <meta charset=\"utf-8\"/>\n",
      "  <meta content=\"IE=edge\" http-equiv=\"X-UA-Compatible\"/>\n",
      "  <meta content=\"width=device-width, initial-scale=1.0\" name=\"viewport\"/>\n",
      "  <title>\n",
      "   Doicimead\n",
      "  </title>\n",
      " </head>\n",
      " <body>\n",
      "  <div>\n",
      "   <h2>\n",
      "    An chead cheannteideal\n",
      "   </h2>\n",
      "   <p>\n",
      "    An chead alt\n",
      "   </p>\n",
      "  </div>\n",
      "  <div>\n",
      "   <h2>\n",
      "    Dara cheannteideal\n",
      "   </h2>\n",
      "   <p>\n",
      "    Dara alt\n",
      "   </p>\n",
      "  </div>\n",
      " </body>\n",
      "</html>\n",
      "\n"
     ]
    }
   ],
   "source": [
    "html_soup = soup(html, 'html.parser')\n",
    "print(html_soup.prettify())"
   ]
  },
  {
   "cell_type": "code",
   "execution_count": 8,
   "id": "a10311c5",
   "metadata": {},
   "outputs": [
    {
     "data": {
      "text/plain": [
       "<title>Doicimead</title>"
      ]
     },
     "execution_count": 8,
     "metadata": {},
     "output_type": "execute_result"
    }
   ],
   "source": [
    "html_soup.title"
   ]
  },
  {
   "cell_type": "code",
   "execution_count": 9,
   "id": "2fc54f8d",
   "metadata": {},
   "outputs": [
    {
     "name": "stdout",
     "output_type": "stream",
     "text": [
      "Doicimead\n"
     ]
    }
   ],
   "source": [
    "doc_title = html_soup.title.text\n",
    "print(doc_title)"
   ]
  },
  {
   "cell_type": "code",
   "execution_count": 11,
   "id": "1721778d",
   "metadata": {},
   "outputs": [
    {
     "name": "stdout",
     "output_type": "stream",
     "text": [
      "<div>\n",
      "<h2>An chead cheannteideal</h2>\n",
      "<p>An chead alt</p>\n",
      "</div>\n"
     ]
    }
   ],
   "source": [
    "div = html_soup.find(\"div\")\n",
    "print(div)"
   ]
  },
  {
   "cell_type": "code",
   "execution_count": 15,
   "id": "f4afdd90",
   "metadata": {},
   "outputs": [
    {
     "name": "stdout",
     "output_type": "stream",
     "text": [
      "An chead cheannteideal\n"
     ]
    }
   ],
   "source": [
    "doc_heading = html_soup.find(\"h2\").text\n",
    "print(doc_heading)"
   ]
  },
  {
   "cell_type": "code",
   "execution_count": 17,
   "id": "8b6b9d4b",
   "metadata": {},
   "outputs": [
    {
     "name": "stdout",
     "output_type": "stream",
     "text": [
      "An chead alt\n"
     ]
    }
   ],
   "source": [
    "doc_para = html_soup.find(\"p\").text\n",
    "print(doc_para)"
   ]
  },
  {
   "cell_type": "code",
   "execution_count": 23,
   "id": "31266564",
   "metadata": {},
   "outputs": [],
   "source": [
    "doc_info = {\"title\": doc_title,\n",
    "            \"heading\": doc_heading,\n",
    "            \"paragraph\": doc_para}"
   ]
  },
  {
   "cell_type": "code",
   "execution_count": null,
   "id": "6998807e",
   "metadata": {},
   "outputs": [],
   "source": []
  }
 ],
 "metadata": {
  "kernelspec": {
   "display_name": "PythonData",
   "language": "python",
   "name": "pythondata"
  },
  "language_info": {
   "codemirror_mode": {
    "name": "ipython",
    "version": 3
   },
   "file_extension": ".py",
   "mimetype": "text/x-python",
   "name": "python",
   "nbconvert_exporter": "python",
   "pygments_lexer": "ipython3",
   "version": "3.9.12"
  }
 },
 "nbformat": 4,
 "nbformat_minor": 5
}
